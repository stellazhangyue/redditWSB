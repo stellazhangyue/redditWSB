{
 "cells": [
  {
   "cell_type": "code",
   "execution_count": null,
   "id": "fc1429b6",
   "metadata": {},
   "outputs": [],
   "source": [
    "import re,os,operator\n",
    "import pandas as pd\n",
    "\n",
    "def findAllFiles(path, extension):\n",
    "    filenames = os.listdir(path)\n",
    "    return [ os.path.join(path,filename) for filename in filenames if filename.endswith( extension ) ]\n",
    "\n",
    "def findAllFileNames():\n",
    "    cur_path = os.getcwd()\n",
    "    relative_path = 'data/raw/reddit/daywise'\n",
    "    path = os.path.join(cur_path,relative_path)\n",
    "    extension =\".csv\"\n",
    "    file_lists = findAllFiles(path,extension)\n",
    "    return file_lists\n",
    "\n",
    "def parseCandidates(str):\n",
    "    if not str: return []\n",
    "    tickers_2 = re.findall('^([A-Z]{2})$',str)\n",
    "    tickers_3 = re.findall('^([A-Z]{3})$',str)\n",
    "    tickers_4 = re.findall('^([A-Z]{4})$',str)\n",
    "    return tickers_2+tickers_3+tickers_4\n",
    "\n",
    "def getCandidatesFreq(df):\n",
    "    tmp1 = list(df['title'].fillna('').apply(parseCandidates))\n",
    "    tmp2 = list(df['selftext'].fillna('').apply(parseCandidates))\n",
    "    df_list = pd.DataFrame({'title_list':tmp1,'selftext_list':tmp2})\n",
    "    df_list['comb_list'] = df_list['title_list']+df_list['selftext_list']\n",
    "    word_count = {}\n",
    "    for i in range(len(df_list)):\n",
    "        tmp = df_list['comb_list'].iloc[i]\n",
    "        tmp = list(dict.fromkeys(tmp))\n",
    "        for j in tmp:\n",
    "            if j not in word_count:\n",
    "                word_count[j] = 0\n",
    "            word_count[j] += 1\n",
    "    return word_count\n",
    "\n",
    "def getCandidates(df,col_name):\n",
    "    tmp = df[col_name].fillna('').apply(parseCandidates)\n",
    "    tmp = [i for i in tmp if len(i) > 0]\n",
    "    stock_list = []\n",
    "    for i in tmp:\n",
    "        stock_list.extend(i)\n",
    "    stock_list = list(dict.fromkeys(stock_list))\n",
    "    return stock_list\n",
    "\n",
    "def getAllCandidates(filename):\n",
    "    df = pd.read_csv(filename)\n",
    "    stock_list_title = getCandidates(df,'title')\n",
    "    stock_list_selftext = getCandidates(df,'selftext')\n",
    "    stock_list = list(dict.fromkeys(stock_list_title+stock_list_selftext))\n",
    "    return stock_list"
   ]
  },
  {
   "cell_type": "code",
   "execution_count": null,
   "id": "76042e1a",
   "metadata": {},
   "outputs": [],
   "source": [
    "file_list = findAllFileNames()\n",
    "complete_candidates_count = {}\n",
    "for i in file_list:\n",
    "    df = pd.read_csv(i)\n",
    "    candidates_count = getCandidatesFreq(df)\n",
    "    for candidate,count in candidates_count.items():\n",
    "        if candidate in complete_candidates_count.keys():\n",
    "            complete_candidates_count[candidate] += count\n",
    "        else:\n",
    "            complete_candidates_count[candidate] = count\n",
    "#complete_candidates_count = dict( sorted(complete_candidates_count.items(), key=operator.itemgetter(1),reverse=True))\n",
    "complete_candidates_count"
   ]
  },
  {
   "cell_type": "code",
   "execution_count": null,
   "id": "ca3e5d1c",
   "metadata": {},
   "outputs": [],
   "source": [
    "df = pd.DataFrame.from_dict(complete_candidates_count,orient='index').reset_index()\n",
    "df.columns =['possible_ticker','count']\n",
    "# saving the dataframe \n",
    "df.to_csv('data/clean/reddit/possible_tickers_count.csv') "
   ]
  },
  {
   "cell_type": "code",
   "execution_count": null,
   "id": "bb0c6304",
   "metadata": {},
   "outputs": [],
   "source": [
    "file_list = findAllFileNames()\n",
    "complete_ticker_list = []\n",
    "for i in file_list:\n",
    "    stock_list = getAllCandidates(i)\n",
    "    complete_ticker_list.append(stock_list)\n",
    "complete_ticker_list"
   ]
  },
  {
   "cell_type": "code",
   "execution_count": null,
   "id": "6195ed9b",
   "metadata": {},
   "outputs": [],
   "source": [
    "all_possible_tickers = []\n",
    "for i in complete_ticker_list:\n",
    "    all_possible_tickers.extend(i)\n",
    "all_possible_tickers = list(dict.fromkeys(all_possible_tickers))\n",
    "all_possible_tickers"
   ]
  },
  {
   "cell_type": "code",
   "execution_count": null,
   "id": "ba2df82b",
   "metadata": {},
   "outputs": [],
   "source": [
    "dict = {'possible_tickers': all_possible_tickers}  \n",
    "df = pd.DataFrame(dict)\n",
    "# saving the dataframe \n",
    "df.to_csv('possible_tickers.csv') "
   ]
  }
 ],
 "metadata": {
  "kernelspec": {
   "display_name": "Python 3 (ipykernel)",
   "language": "python",
   "name": "python3"
  },
  "language_info": {
   "codemirror_mode": {
    "name": "ipython",
    "version": 3
   },
   "file_extension": ".py",
   "mimetype": "text/x-python",
   "name": "python",
   "nbconvert_exporter": "python",
   "pygments_lexer": "ipython3",
   "version": "3.9.7"
  }
 },
 "nbformat": 4,
 "nbformat_minor": 5
}
